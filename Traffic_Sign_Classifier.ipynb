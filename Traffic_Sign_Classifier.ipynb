{
 "cells": [
  {
   "cell_type": "markdown",
   "metadata": {},
   "source": [
    "# Self-Driving Car Engineer Nanodegree\n",
    "\n",
    "## Deep Learning\n",
    "\n",
    "## Project: Build a Traffic Sign Recognition Classifier\n",
    "\n",
    "In this notebook, a template is provided for you to implement your functionality in stages, which is required to successfully complete this project. If additional code is required that cannot be included in the notebook, be sure that the Python code is successfully imported and included in your submission if necessary. \n",
    "\n",
    "> **Note**: Once you have completed all of the code implementations, you need to finalize your work by exporting the iPython Notebook as an HTML document. Before exporting the notebook to html, all of the code cells need to have been run so that reviewers can see the final implementation and output. You can then export the notebook by using the menu above and navigating to  \\n\",\n",
    "    \"**File -> Download as -> HTML (.html)**. Include the finished document along with this notebook as your submission. \n",
    "\n",
    "In addition to implementing code, there is a writeup to complete. The writeup should be completed in a separate file, which can be either a markdown file or a pdf document. There is a [write up template](https://github.com/udacity/CarND-Traffic-Sign-Classifier-Project/blob/master/writeup_template.md) that can be used to guide the writing process. Completing the code template and writeup template will cover all of the [rubric points](https://review.udacity.com/#!/rubrics/481/view) for this project.\n",
    "\n",
    "The [rubric](https://review.udacity.com/#!/rubrics/481/view) contains \"Stand Out Suggestions\" for enhancing the project beyond the minimum requirements. The stand out suggestions are optional. If you decide to pursue the \"stand out suggestions\", you can include the code in this Ipython notebook and also discuss the results in the writeup file.\n",
    "\n",
    "\n",
    ">**Note:** Code and Markdown cells can be executed using the **Shift + Enter** keyboard shortcut. In addition, Markdown cells can be edited by typically double-clicking the cell to enter edit mode."
   ]
  },
  {
   "cell_type": "markdown",
   "metadata": {},
   "source": [
    "---\n",
    "## Step 0: Load The Data"
   ]
  },
  {
   "cell_type": "code",
   "execution_count": 22,
   "metadata": {},
   "outputs": [],
   "source": [
    "# import\n",
    "import pickle\n",
    "import numpy as np\n",
    "import random\n",
    "import csv\n",
    "import matplotlib.pyplot as plt\n",
    "import cv2\n",
    "from sklearn.utils import shuffle\n",
    "from sklearn.model_selection import train_test_split\n",
    "\n",
    "# TODO: Fill this in based on where you saved the training and testing data\n",
    "\n",
    "training_file = 'traffic-signs-data/train.p'\n",
    "validation_file = 'traffic-signs-data/valid.p'\n",
    "testing_file = 'traffic-signs-data/test.p'\n",
    "\n",
    "with open(training_file, mode='rb') as f:\n",
    "    train = pickle.load(f)\n",
    "with open(validation_file, mode='rb') as f:\n",
    "    valid = pickle.load(f)\n",
    "with open(testing_file, mode='rb') as f:\n",
    "    test = pickle.load(f)\n",
    "    \n",
    "X_train_tmp, y_train_tmp = train['features'], train['labels']\n",
    "X_valid_tmp, y_valid_tmp = valid['features'], valid['labels']\n",
    "X_test, y_test = test['features'], test['labels']"
   ]
  },
  {
   "cell_type": "code",
   "execution_count": 23,
   "metadata": {},
   "outputs": [
    {
     "name": "stdout",
     "output_type": "stream",
     "text": [
      "(34799, 32, 32, 3)\n",
      "(39209, 32, 32, 3)\n"
     ]
    }
   ],
   "source": [
    "# concatenate train and valid for common preprocessing\n",
    "\n",
    "print(X_train_tmp.shape)\n",
    "X = np.concatenate((X_train_tmp, X_valid_tmp), axis=0)\n",
    "y = np.concatenate((y_train_tmp, y_valid_tmp), axis=0)\n",
    "print(X.shape)"
   ]
  },
  {
   "cell_type": "markdown",
   "metadata": {},
   "source": [
    "---\n",
    "\n",
    "## Step 1: Dataset Summary & Exploration\n",
    "\n",
    "The pickled data is a dictionary with 4 key/value pairs:\n",
    "\n",
    "- `'features'` is a 4D array containing raw pixel data of the traffic sign images, (num examples, width, height, channels).\n",
    "- `'labels'` is a 1D array containing the label/class id of the traffic sign. The file `signnames.csv` contains id -> name mappings for each id.\n",
    "- `'sizes'` is a list containing tuples, (width, height) representing the original width and height the image.\n",
    "- `'coords'` is a list containing tuples, (x1, y1, x2, y2) representing coordinates of a bounding box around the sign in the image. **THESE COORDINATES ASSUME THE ORIGINAL IMAGE. THE PICKLED DATA CONTAINS RESIZED VERSIONS (32 by 32) OF THESE IMAGES**\n",
    "\n",
    "Complete the basic data summary below. Use python, numpy and/or pandas methods to calculate the data summary rather than hard coding the results. For example, the [pandas shape method](http://pandas.pydata.org/pandas-docs/stable/generated/pandas.DataFrame.shape.html) might be useful for calculating some of the summary results. "
   ]
  },
  {
   "cell_type": "markdown",
   "metadata": {},
   "source": [
    "### Provide a Basic Summary of the Data Set Using Python, Numpy and/or Pandas"
   ]
  },
  {
   "cell_type": "code",
   "execution_count": 24,
   "metadata": {},
   "outputs": [
    {
     "name": "stdout",
     "output_type": "stream",
     "text": [
      "Number of training examples = 34799\n",
      "Number of validation examples = 4410\n",
      "Number of testing examples = 12630\n",
      "Image data shape = (32, 32, 3)\n",
      "Number of classes = 43\n"
     ]
    }
   ],
   "source": [
    "### Replace each question mark with the appropriate value. \n",
    "### Use python, pandas or numpy methods rather than hard coding the results\n",
    "\n",
    "# TODO: Number of training examples\n",
    "n_train = y_train_tmp.shape[0]\n",
    "\n",
    "# TODO: Number of validation examples\n",
    "n_validation = y_valid_tmp.shape[0]\n",
    "\n",
    "# TODO: Number of testing examples.\n",
    "n_test = y_test.shape[0]\n",
    "\n",
    "# TODO: What's the shape of an traffic sign image?\n",
    "image_shape = X[0].shape\n",
    "\n",
    "# TODO: How many unique classes/labels there are in the dataset.\n",
    "n_classes = len(set(y))\n",
    "\n",
    "print(\"Number of training examples =\", n_train)\n",
    "print(\"Number of validation examples =\", n_validation)\n",
    "print(\"Number of testing examples =\", n_test)\n",
    "print(\"Image data shape =\", image_shape)\n",
    "print(\"Number of classes =\", n_classes)"
   ]
  },
  {
   "cell_type": "markdown",
   "metadata": {},
   "source": [
    "### Include an exploratory visualization of the dataset"
   ]
  },
  {
   "cell_type": "markdown",
   "metadata": {},
   "source": [
    "Visualize the German Traffic Signs Dataset using the pickled file(s). This is open ended, suggestions include: plotting traffic sign images, plotting the count of each sign, etc. \n",
    "\n",
    "The [Matplotlib](http://matplotlib.org/) [examples](http://matplotlib.org/examples/index.html) and [gallery](http://matplotlib.org/gallery.html) pages are a great resource for doing visualizations in Python.\n",
    "\n",
    "**NOTE:** It's recommended you start with something simple first. If you wish to do more, come back to it after you've completed the rest of the sections. It can be interesting to look at the distribution of classes in the training, validation and test set. Is the distribution the same? Are there more examples of some classes than others?"
   ]
  },
  {
   "cell_type": "code",
   "execution_count": 25,
   "metadata": {
    "scrolled": true
   },
   "outputs": [],
   "source": [
    "### Data exploration visualization code goes here.\n",
    "### Feel free to use as many code cells as needed.\n",
    "# Visualizations will be shown in the notebook.\n",
    "%matplotlib inline\n",
    "\n",
    "# extract sign names\n",
    "signs = {}\n",
    "with open('signnames.csv') as signfile:\n",
    "    data = csv.reader(signfile)\n",
    "    for row in data:\n",
    "        if not row[0] == 'ClassId':\n",
    "            signs[int(row[0])] =  row[1]"
   ]
  },
  {
   "cell_type": "code",
   "execution_count": 26,
   "metadata": {},
   "outputs": [
    {
     "name": "stdout",
     "output_type": "stream",
     "text": [
      "Minimum class images: 210\n",
      "Factor valid/train: 0.13\n"
     ]
    },
    {
     "data": {
      "image/png": "[encoded data removed]",
      "text/plain": [
       "<matplotlib.figure.Figure at 0x1e2978e2da0>"
      ]
     },
     "metadata": {},
     "output_type": "display_data"
    }
   ],
   "source": [
    "# visualize samples over classes\n",
    "\n",
    "hist, bins = np.histogram(y, bins=n_classes)\n",
    "print('Minimum class images: {}'.format(min(hist)))\n",
    "factor_valid_train = np.round(n_validation/n_train, 2)\n",
    "print('Factor valid/train: {}'.format(factor_valid_train))\n",
    "width = 0.7*(bins[1] - bins[0])\n",
    "center = (bins[:-1] + bins[1:])/2\n",
    "plt.bar(center, hist, align='center', width=width)\n",
    "plt.show()"
   ]
  },
  {
   "cell_type": "markdown",
   "metadata": {},
   "source": [
    "----\n",
    "\n",
    "## Step 2: Design and Test a Model Architecture\n",
    "\n",
    "Design and implement a deep learning model that learns to recognize traffic signs. Train and test your model on the [German Traffic Sign Dataset](http://benchmark.ini.rub.de/?section=gtsrb&subsection=dataset).\n",
    "\n",
    "The LeNet-5 implementation shown in the [classroom](https://classroom.udacity.com/nanodegrees/nd013/parts/fbf77062-5703-404e-b60c-95b78b2f3f9e/modules/6df7ae49-c61c-4bb2-a23e-6527e69209ec/lessons/601ae704-1035-4287-8b11-e2c2716217ad/concepts/d4aca031-508f-4e0b-b493-e7b706120f81) at the end of the CNN lesson is a solid starting point. You'll have to change the number of classes and possibly the preprocessing, but aside from that it's plug and play! \n",
    "\n",
    "With the LeNet-5 solution from the lecture, you should expect a validation set accuracy of about 0.89. To meet specifications, the validation set accuracy will need to be at least 0.93. It is possible to get an even higher accuracy, but 0.93 is the minimum for a successful project submission. \n",
    "\n",
    "There are various aspects to consider when thinking about this problem:\n",
    "\n",
    "- Neural network architecture (is the network over or underfitting?)\n",
    "- Play around preprocessing techniques (normalization, rgb to grayscale, etc)\n",
    "- Number of examples per label (some have more than others).\n",
    "- Generate fake data.\n",
    "\n",
    "Here is an example of a [published baseline model on this problem](http://yann.lecun.com/exdb/publis/pdf/sermanet-ijcnn-11.pdf). It's not required to be familiar with the approach used in the paper but, it's good practice to try to read papers like these."
   ]
  },
  {
   "cell_type": "markdown",
   "metadata": {},
   "source": [
    "### Pre-process the Data Set (normalization, grayscale, etc.)"
   ]
  },
  {
   "cell_type": "markdown",
   "metadata": {},
   "source": [
    "Minimally, the image data should be normalized so that the data has mean zero and equal variance. For image data, `(pixel - 128)/ 128` is a quick way to approximately normalize the data and can be used in this project. \n",
    "\n",
    "Other pre-processing steps are optional. You can try different techniques to see if it improves performance. \n",
    "\n",
    "Use the code cell (or multiple code cells, if necessary) to implement the first step of your project."
   ]
  },
  {
   "cell_type": "code",
   "execution_count": 27,
   "metadata": {},
   "outputs": [],
   "source": [
    "### Preprocess the data here. It is required to normalize the data. Other preprocessing steps could include \n",
    "### converting to grayscale, etc.\n",
    "### Feel free to use as many code cells as needed."
   ]
  },
  {
   "cell_type": "code",
   "execution_count": 28,
   "metadata": {},
   "outputs": [],
   "source": [
    "# since number of samples are very low in some classes compared to others -> increase samples\n",
    "\n",
    "def rand_translation(img):\n",
    "    height,width,_ = img.shape\n",
    "    max_px_shift = 4\n",
    "    \n",
    "    dx,dy = np.random.randint(-max_px_shift,max_px_shift,2)\n",
    "    M = np.float32([[1,0,dx],[0,1,dy]])\n",
    "    img_out = cv2.warpAffine(img,M,(width,height))\n",
    "\n",
    "    return img_out\n",
    "\n",
    "def rand_warp(img):\n",
    "    height,width,_ = img.shape\n",
    "    warp_coeff = 0.05\n",
    "    \n",
    "    # random scaling coefficients\n",
    "    rndx = (np.random.rand(3) - 0.5) * width * warp_coeff\n",
    "    rndy = (np.random.rand(3) - 0.5) * height * warp_coeff\n",
    "    rnd = np.transpose(np.float32((rndy, rndx)))\n",
    "    # starting points for transform\n",
    "    x1 = width/4\n",
    "    x2 = 3*width/4\n",
    "    y1 = height/4\n",
    "    y2 = 3*height/4\n",
    "    pts1 = np.float32([[y1,x1],\n",
    "                       [y2,x1],\n",
    "                       [y1,x2]])\n",
    "    pts2 = pts1 + rnd\n",
    "    M = cv2.getAffineTransform(pts1,pts2)\n",
    "    img_out = cv2.warpAffine(img,M,(width,height))\n",
    "\n",
    "    return img_out"
   ]
  },
  {
   "cell_type": "code",
   "execution_count": 29,
   "metadata": {},
   "outputs": [
    {
     "name": "stdout",
     "output_type": "stream",
     "text": [
      "Label: Turn right ahead\n"
     ]
    },
    {
     "data": {
      "text/plain": [
       "<matplotlib.image.AxesImage at 0x1e48e3b6e10>"
      ]
     },
     "execution_count": 29,
     "metadata": {},
     "output_type": "execute_result"
    },
    {
     "data": {
      "image/png": "[encoded data removed]",
      "text/plain": [
       "<matplotlib.figure.Figure at 0x1e2c19a46a0>"
      ]
     },
     "metadata": {},
     "output_type": "display_data"
    },
    {
     "data": {
      "image/png": "[encoded data removed]",
      "text/plain": [
       "<matplotlib.figure.Figure at 0x1e48e3a6128>"
      ]
     },
     "metadata": {},
     "output_type": "display_data"
    }
   ],
   "source": [
    "# test data augmentation\n",
    "\n",
    "idx = random.randint(0, len(X))\n",
    "image = X[idx]\n",
    "\n",
    "plt.figure(figsize=(1,1))\n",
    "plt.imshow(image)\n",
    "print('Label: {}'.format(signs[y[idx]]))\n",
    "\n",
    "image_aug = rand_translation(image)\n",
    "image_aug = rand_warp(image)\n",
    "\n",
    "plt.figure(figsize=(1,1))\n",
    "plt.imshow(image_aug)"
   ]
  },
  {
   "cell_type": "code",
   "execution_count": 30,
   "metadata": {},
   "outputs": [
    {
     "name": "stdout",
     "output_type": "stream",
     "text": [
      "Class 0: Speed limit (20km/h), added 290 samples\n",
      "Class 6: End of speed limit (80km/h), added 80 samples\n",
      "Class 16: Vehicles over 3.5 metric tons prohibited, added 80 samples\n",
      "Class 19: Dangerous curve to the left, added 290 samples\n",
      "Class 20: Dangerous curve to the right, added 140 samples\n",
      "Class 21: Double curve, added 170 samples\n",
      "Class 22: Bumpy road, added 110 samples\n",
      "Class 24: Road narrows on the right, added 230 samples\n",
      "Class 27: Pedestrians, added 260 samples\n",
      "Class 29: Bicycles crossing, added 230 samples\n",
      "Class 30: Beware of ice/snow, added 50 samples\n",
      "Class 32: End of all speed and passing limits, added 260 samples\n",
      "Class 34: Turn left ahead, added 80 samples\n",
      "Class 36: Go straight or right, added 110 samples\n",
      "Class 37: Go straight or left, added 290 samples\n",
      "Class 39: Keep left, added 200 samples\n",
      "Class 40: Roundabout mandatory, added 140 samples\n",
      "Class 41: End of no passing, added 260 samples\n",
      "Class 42: End of no passing by vehicles over 3.5 metric tons, added 260 samples\n"
     ]
    }
   ],
   "source": [
    "# increase samples of small classes\n",
    "\n",
    "min_samples = 500\n",
    "input_indices = []\n",
    "output_indices = []\n",
    "\n",
    "for class_n in range(n_classes):\n",
    "    class_indices = np.where(y == class_n)\n",
    "    n_samples = len(class_indices[0])\n",
    "    if n_samples < min_samples:\n",
    "        for i in range(min_samples - n_samples):\n",
    "            input_indices.append(class_indices[0][i%n_samples])\n",
    "            output_indices.append(X.shape[0])\n",
    "            img_idx = class_indices[0][i % n_samples]\n",
    "            new_img = X[img_idx]\n",
    "            new_img = rand_warp(rand_translation(new_img))\n",
    "            X = np.concatenate((X, [new_img]), axis=0)\n",
    "            y = np.concatenate((y, [class_n]), axis=0)\n",
    "        print('Class {}: {}, added {} samples'.format(class_n, signs[class_n], min_samples-n_samples))"
   ]
  },
  {
   "cell_type": "code",
   "execution_count": 31,
   "metadata": {},
   "outputs": [
    {
     "name": "stdout",
     "output_type": "stream",
     "text": [
      "Minimum class images: 500\n",
      "Factor valid/train: 0.12672777953389466\n"
     ]
    },
    {
     "data": {
      "image/png": "[encoded data removed]",
      "text/plain": [
       "<matplotlib.figure.Figure at 0x1e2aab30198>"
      ]
     },
     "metadata": {},
     "output_type": "display_data"
    }
   ],
   "source": [
    "# visualize augmented data\n",
    "\n",
    "hist, bins = np.histogram(y, bins=n_classes)\n",
    "print('Minimum class images: {}'.format(min(hist)))\n",
    "print('Factor valid/train: {}'.format(n_validation/n_train))\n",
    "width = 0.7*(bins[1] - bins[0])\n",
    "center = (bins[:-1] + bins[1:])/2\n",
    "plt.bar(center, hist, align='center', width=width)\n",
    "plt.show()"
   ]
  },
  {
   "cell_type": "code",
   "execution_count": 10,
   "metadata": {},
   "outputs": [],
   "source": [
    "# shuffle and split data\n",
    "\n",
    "X, y = shuffle(X, y)\n",
    "X_train, X_valid, y_train, y_valid = train_test_split(X, y, test_size=0.13, random_state=42)"
   ]
  },
  {
   "cell_type": "code",
   "execution_count": 11,
   "metadata": {},
   "outputs": [
    {
     "name": "stdout",
     "output_type": "stream",
     "text": [
      "Label: Turn right ahead\n"
     ]
    },
    {
     "data": {
      "image/png": "[encoded data removed]",
      "text/plain": [
       "<matplotlib.figure.Figure at 0x1e294bfd6a0>"
      ]
     },
     "metadata": {},
     "output_type": "display_data"
    }
   ],
   "source": [
    "# random tests\n",
    "\n",
    "idx = random.randint(0, len(X_train))\n",
    "image = X_train[idx]\n",
    "plt.figure(figsize=(1,1))\n",
    "plt.imshow(image)\n",
    "print('Label: {}'.format(signs[y_train[idx]]))"
   ]
  },
  {
   "cell_type": "code",
   "execution_count": 12,
   "metadata": {},
   "outputs": [
    {
     "name": "stdout",
     "output_type": "stream",
     "text": [
      "(34111, 32, 32, 3)\n",
      "(34111, 32, 32, 1)\n",
      "(5098, 32, 32, 1)\n",
      "(12630, 32, 32, 1)\n",
      "(34111, 32, 32, 1)\n"
     ]
    }
   ],
   "source": [
    "# convert data to greyscale and norm\n",
    "\n",
    "def norm(img_data):\n",
    "    return (img_data + np.ones_like(img_data)*-128)/128\n",
    "\n",
    "print(X_train.shape)\n",
    "#X_train_grey = np.expand_dims(np.array([cv2.cvtColor(img, cv2.COLOR_RGB2GRAY) for img in X_train]), axis=3)\n",
    "X_train_grey = np.sum(X_train/3, axis=3, keepdims=True)\n",
    "X_valid_grey = np.sum(X_valid/3, axis=3, keepdims=True)\n",
    "X_test_grey = np.sum(X_test/3, axis=3, keepdims=True)\n",
    "print(X_train_grey.shape)\n",
    "print(X_valid_grey.shape)\n",
    "print(X_test_grey.shape)\n",
    "X_train_norm = norm(X_train_grey)\n",
    "X_valid_norm = norm(X_valid_grey)\n",
    "X_test_norm = norm(X_test_grey)\n",
    "print(X_train_norm.shape)"
   ]
  },
  {
   "cell_type": "code",
   "execution_count": 13,
   "metadata": {},
   "outputs": [
    {
     "name": "stdout",
     "output_type": "stream",
     "text": [
      "-0.317270914714\n",
      "87.3893229167\n",
      "Label: Speed limit (120km/h)\n"
     ]
    },
    {
     "data": {
      "image/png": "[encoded data removed]",
      "text/plain": [
       "<matplotlib.figure.Figure at 0x1e297e7ff60>"
      ]
     },
     "metadata": {},
     "output_type": "display_data"
    },
    {
     "data": {
      "image/png": "[encoded data removed]",
      "text/plain": [
       "<matplotlib.figure.Figure at 0x1e297d9d5f8>"
      ]
     },
     "metadata": {},
     "output_type": "display_data"
    }
   ],
   "source": [
    "# compare random samples\n",
    "\n",
    "idx = random.randint(0, len(X_train_norm))\n",
    "image_norm = X_train_norm[idx]\n",
    "plt.figure(figsize=(1,1))\n",
    "plt.imshow(np.squeeze(image_norm), cmap='gray')\n",
    "print(np.mean(image_norm))\n",
    "image = X_train_grey[idx]\n",
    "plt.figure(figsize=(1,1))\n",
    "plt.imshow(np.squeeze(image), cmap='gray')\n",
    "print(np.mean(image))\n",
    "print('Label: {}'.format(signs[y_train[idx]]))"
   ]
  },
  {
   "cell_type": "markdown",
   "metadata": {},
   "source": [
    "### Model Architecture"
   ]
  },
  {
   "cell_type": "code",
   "execution_count": 14,
   "metadata": {},
   "outputs": [],
   "source": [
    "import tensorflow as tf\n",
    "\n",
    "EPOCHS = 15\n",
    "BATCH_SIZE = 128"
   ]
  },
  {
   "cell_type": "code",
   "execution_count": 15,
   "metadata": {},
   "outputs": [],
   "source": [
    "# extended architecture to a 2 stage CNN as proposed by Pierre Sermanet and Yann LeCun\n",
    "# added batch normalization\n",
    "\n",
    "def LeNet(x):    \n",
    "    # Arguments used for tf.truncated_normal, randomly defines variables for the weights and biases for each layer\n",
    "    mu = 0\n",
    "    sigma = 0.1\n",
    "    \n",
    "    # Layer 1: Convolutional. Input = 32x32x1. Output = 28x28x6.\n",
    "    conv1_W = tf.Variable(tf.truncated_normal(shape=(5, 5, 1, 6), mean=mu, stddev=0.1))\n",
    "    conv1_b = tf.Variable(tf.zeros(6))\n",
    "    conv1   = tf.nn.conv2d(x, conv1_W, strides=[1, 1, 1, 1], padding='VALID', use_cudnn_on_gpu=True)\n",
    "    conv1   = tf.nn.bias_add(conv1, conv1_b)\n",
    "    #bnc1 = tf.layers.batch_normalization(conv1, training=phase)\n",
    "    # Activation.\n",
    "    relu1 = tf.nn.relu(conv1)\n",
    "    # Pooling. Input = 28x28x6. Output = 14x14x6.\n",
    "    pool1 = tf.nn.max_pool(relu1, ksize=[1, 2, 2, 1], strides=[1, 2, 2, 1], padding='VALID')\n",
    "    \n",
    "    # Layer 2: Convolutional. Output = 10x10x16.\n",
    "    conv2_W = tf.Variable(tf.truncated_normal(shape=(5, 5, 6, 16), mean=mu, stddev=sigma))\n",
    "    conv2_b = tf.Variable(tf.zeros(16))\n",
    "    conv2   = tf.nn.conv2d(pool1, conv2_W, strides=[1, 1, 1, 1], padding='VALID', use_cudnn_on_gpu=True)\n",
    "    conv2   = tf.nn.bias_add(conv2, conv2_b)\n",
    "    bnc2 = tf.layers.batch_normalization(conv2, training=phase)\n",
    "    # Activation.\n",
    "    relu2 = tf.nn.relu(bnc2)\n",
    "    # Pooling. Input = 10x10x16. Output = 5x5x16.\n",
    "    pool2 = tf.nn.max_pool(relu2, ksize=[1, 2, 2, 1], strides=[1, 2, 2, 1], padding='VALID')\n",
    "    \n",
    "    # Layer 3: Convolutional. Output = 1x1x400.\n",
    "    conv3_W = tf.Variable(tf.truncated_normal(shape=(5, 5, 16, 400), mean=mu, stddev=sigma))\n",
    "    conv3_b = tf.Variable(tf.zeros(400))\n",
    "    conv3   = tf.nn.conv2d(pool2, conv3_W, strides=[1, 1, 1, 1], padding='VALID', use_cudnn_on_gpu=True)\n",
    "    conv3   = tf.nn.bias_add(conv3, conv3_b)\n",
    "    bnc3 = tf.layers.batch_normalization(conv3, training=phase)\n",
    "    # Activation.\n",
    "    relu3 = tf.nn.relu(bnc3)\n",
    "    # no pooling needed here. Output: 1x1x400\n",
    "    \n",
    "    # Flatten.\n",
    "    # Input = 5x5x16. Output = 400.\n",
    "    flat1 = tf.contrib.layers.flatten(pool2)\n",
    "    # Input: 1x1x400, Output: 400\n",
    "    flat2 = tf.contrib.layers.flatten(relu3)\n",
    "    \n",
    "    # concatenate both flat layers, Output: 800\n",
    "    flat = tf.concat([flat1, flat2], 1)\n",
    "    \n",
    "    # Layer 3: Fully Connected. Input = 800. Output = 43.\n",
    "    fully1_W = tf.Variable(tf.truncated_normal(shape=(800, 43), mean=mu, stddev=sigma))\n",
    "    fully1_b = tf.Variable(tf.zeros(43))\n",
    "    logits   = tf.add(tf.matmul(flat, fully1_W), fully1_b)\n",
    "    #bnf1 = tf.layers.batch_normalization(fully1, training=phase)\n",
    "    # Activation.\n",
    "    #relu3 = tf.nn.relu(bnf1)\n",
    "    \n",
    "    # Layer 4: Fully Connected. Input = 120. Output = 84.\n",
    "    #fully2_W = tf.Variable(tf.truncated_normal(shape=(120, 84), mean=mu, stddev=sigma))\n",
    "    #fully2_b = tf.Variable(tf.zeros(84))\n",
    "    #fully2   = tf.add(tf.matmul(relu3, fully2_W), fully2_b)\n",
    "    #bnf2 = tf.layers.batch_normalization(fully2, training=phase)\n",
    "    # Activation.\n",
    "    #relu4 = tf.nn.relu(bnf2)\n",
    "\n",
    "    # Layer 5: Fully Connected. Input = 84. Output = 43.\n",
    "    #fully3_W = tf.Variable(tf.truncated_normal(shape=(84, 43), mean=mu, stddev=sigma))\n",
    "    #fully3_b = tf.Variable(tf.zeros(43))\n",
    "    #logits   = tf.add(tf.matmul(relu4, fully3_W), fully3_b)\n",
    "    \n",
    "    return logits"
   ]
  },
  {
   "cell_type": "code",
   "execution_count": 16,
   "metadata": {},
   "outputs": [],
   "source": [
    "# initialize placeholders\n",
    "\n",
    "x = tf.placeholder(tf.float32, (None, 32, 32, 1))\n",
    "y = tf.placeholder(tf.int32, (None))\n",
    "phase = tf.placeholder(tf.bool, name='phase')\n",
    "one_hot_y = tf.one_hot(y, 43)"
   ]
  },
  {
   "cell_type": "code",
   "execution_count": 17,
   "metadata": {},
   "outputs": [],
   "source": [
    "learning_rate = 0.0005\n",
    "\n",
    "logits = LeNet(x)\n",
    "cross_entropy = tf.nn.softmax_cross_entropy_with_logits(labels=one_hot_y, logits=logits)\n",
    "loss_operation = tf.reduce_mean(cross_entropy)\n",
    "with tf.control_dependencies(tf.get_collection(tf.GraphKeys.UPDATE_OPS)):\n",
    "    optimizer = tf.train.AdamOptimizer(learning_rate = learning_rate)\n",
    "    training_operation = optimizer.minimize(loss_operation)"
   ]
  },
  {
   "cell_type": "code",
   "execution_count": 18,
   "metadata": {},
   "outputs": [],
   "source": [
    "correct_prediction = tf.equal(tf.argmax(logits, 1), tf.argmax(one_hot_y, 1))\n",
    "accuracy_operation = tf.reduce_mean(tf.cast(correct_prediction, tf.float32))\n",
    "saver = tf.train.Saver()\n",
    "\n",
    "def evaluate(X_data, y_data):\n",
    "    num_examples = len(X_data)\n",
    "    total_accuracy = 0\n",
    "    sess = tf.get_default_session()\n",
    "    for offset in range(0, num_examples, BATCH_SIZE):\n",
    "        batch_x, batch_y = X_data[offset:offset+BATCH_SIZE], y_data[offset:offset+BATCH_SIZE]\n",
    "        accuracy = sess.run(accuracy_operation, feed_dict={x: batch_x, y: batch_y, phase: False})\n",
    "        total_accuracy += (accuracy * len(batch_x))\n",
    "    return total_accuracy / num_examples"
   ]
  },
  {
   "cell_type": "markdown",
   "metadata": {},
   "source": [
    "### Train, Validate and Test the Model"
   ]
  },
  {
   "cell_type": "markdown",
   "metadata": {},
   "source": [
    "A validation set can be used to assess how well the model is performing. A low accuracy on the training and validation\n",
    "sets imply underfitting. A high accuracy on the training set but low accuracy on the validation set implies overfitting."
   ]
  },
  {
   "cell_type": "code",
   "execution_count": 20,
   "metadata": {},
   "outputs": [
    {
     "name": "stdout",
     "output_type": "stream",
     "text": [
      "Training...\n",
      "\n",
      "EPOCH 1 ...\n",
      "Validation Accuracy = 0.492\n",
      "\n",
      "EPOCH 2 ...\n",
      "Validation Accuracy = 0.883\n",
      "\n",
      "EPOCH 3 ...\n",
      "Validation Accuracy = 0.930\n",
      "\n",
      "EPOCH 4 ...\n",
      "Validation Accuracy = 0.950\n",
      "\n",
      "EPOCH 5 ...\n",
      "Validation Accuracy = 0.957\n",
      "\n",
      "EPOCH 6 ...\n",
      "Validation Accuracy = 0.965\n",
      "\n",
      "EPOCH 7 ...\n",
      "Validation Accuracy = 0.963\n",
      "\n",
      "EPOCH 8 ...\n",
      "Validation Accuracy = 0.963\n",
      "\n",
      "EPOCH 9 ...\n",
      "Validation Accuracy = 0.969\n",
      "\n",
      "EPOCH 10 ...\n",
      "Validation Accuracy = 0.970\n",
      "\n",
      "EPOCH 11 ...\n",
      "Validation Accuracy = 0.971\n",
      "\n",
      "EPOCH 12 ...\n",
      "Validation Accuracy = 0.974\n",
      "\n",
      "EPOCH 13 ...\n",
      "Validation Accuracy = 0.974\n",
      "\n",
      "EPOCH 14 ...\n",
      "Validation Accuracy = 0.974\n",
      "\n",
      "EPOCH 15 ...\n",
      "Validation Accuracy = 0.975\n",
      "\n",
      "Model saved\n"
     ]
    }
   ],
   "source": [
    "### Train your model here.\n",
    "### Calculate and report the accuracy on the training and validation set.\n",
    "### Once a final model architecture is selected, \n",
    "### the accuracy on the test set should be calculated and reported as well.\n",
    "### Feel free to use as many code cells as needed.\n",
    "from sklearn.utils import shuffle\n",
    "with tf.Session() as sess:\n",
    "    sess.run(tf.global_variables_initializer())\n",
    "    num_examples = len(X_train_norm)\n",
    "    \n",
    "    print(\"Training...\")\n",
    "    print()\n",
    "    for i in range(EPOCHS):\n",
    "        X_train_norm, y_train = shuffle(X_train_norm, y_train)\n",
    "        for offset in range(0, num_examples, BATCH_SIZE):\n",
    "            end = offset + BATCH_SIZE\n",
    "            batch_x, batch_y = X_train_norm[offset:end], y_train[offset:end]\n",
    "            sess.run(training_operation, feed_dict={x: batch_x, y: batch_y, phase: True})\n",
    "            \n",
    "        validation_accuracy = evaluate(X_valid_norm, y_valid)\n",
    "        print(\"EPOCH {} ...\".format(i+1))\n",
    "        print(\"Validation Accuracy = {:.3f}\".format(validation_accuracy))\n",
    "        print()\n",
    "        \n",
    "    saver.save(sess, './lenet')\n",
    "    print(\"Model saved\")"
   ]
  },
  {
   "cell_type": "markdown",
   "metadata": {},
   "source": [
    "---\n",
    "\n",
    "## Step 3: Test a Model on New Images\n",
    "\n",
    "To give yourself more insight into how your model is working, download at least five pictures of German traffic signs from the web and use your model to predict the traffic sign type.\n",
    "\n",
    "You may find `signnames.csv` useful as it contains mappings from the class id (integer) to the actual sign name."
   ]
  },
  {
   "cell_type": "code",
   "execution_count": 20,
   "metadata": {},
   "outputs": [
    {
     "name": "stdout",
     "output_type": "stream",
     "text": [
      "INFO:tensorflow:Restoring parameters from ./lenet\n",
      "Test Set Accuracy = 0.914\n"
     ]
    }
   ],
   "source": [
    "# evaluate model with test set\n",
    "\n",
    "with tf.Session() as sess:\n",
    "    sess.run(tf.global_variables_initializer())\n",
    "    saver1 = tf.train.import_meta_graph('./lenet.meta')\n",
    "    saver1.restore(sess, \"./lenet\")\n",
    "    test_accuracy = evaluate(X_test_norm, y_test)\n",
    "    print(\"Test Set Accuracy = {:.3f}\".format(test_accuracy))"
   ]
  },
  {
   "cell_type": "markdown",
   "metadata": {},
   "source": [
    "**Test Set Results**:\n",
    "\n",
    "On the test set the model achieved 91,4% accuracy versus 97,5% accuracy on the validation set. It seems that the model overfitted a little bit, wich might be caused by the data augmantation. To improve this in the future, one could improve on the data augmentation and make the number of samples per class more even."
   ]
  },
  {
   "cell_type": "markdown",
   "metadata": {},
   "source": [
    "### Load and Output the Images"
   ]
  },
  {
   "cell_type": "code",
   "execution_count": 2,
   "metadata": {},
   "outputs": [],
   "source": [
    "import glob\n",
    "import pickle\n",
    "import numpy as np\n",
    "import random\n",
    "import csv\n",
    "import matplotlib.pyplot as plt\n",
    "import cv2\n",
    "from sklearn.utils import shuffle\n",
    "from sklearn.model_selection import train_test_split\n",
    "import tensorflow as tf"
   ]
  },
  {
   "cell_type": "code",
   "execution_count": 19,
   "metadata": {},
   "outputs": [
    {
     "name": "stdout",
     "output_type": "stream",
     "text": [
      "(5, 32, 32, 3)\n",
      "(5, 32, 32, 1)\n"
     ]
    }
   ],
   "source": [
    "### Load the images and plot them here.\n",
    "### Feel free to use as many code cells as needed.\n",
    "\n",
    "\n",
    "web_imgs = []\n",
    "\n",
    "for image in glob.glob('./examples/web/*.png'):\n",
    "    web_imgs.append(cv2.imread(image))\n",
    "\n",
    "web_imgs = np.array(web_imgs)\n",
    "print(web_imgs.shape)\n",
    "web_imgs = np.sum(web_imgs/3, axis=3, keepdims=True)\n",
    "web_imgs = norm(web_imgs)\n",
    "print(web_imgs.shape)"
   ]
  },
  {
   "cell_type": "code",
   "execution_count": 20,
   "metadata": {},
   "outputs": [],
   "source": [
    "web_y = np.array((13, 1, 12, 27, 17))"
   ]
  },
  {
   "cell_type": "code",
   "execution_count": 21,
   "metadata": {},
   "outputs": [
    {
     "name": "stdout",
     "output_type": "stream",
     "text": [
      "(32, 32, 1)\n"
     ]
    },
    {
     "data": {
      "image/png": "[encoded data removed]",
      "text/plain": [
       "<matplotlib.figure.Figure at 0x1547afc8160>"
      ]
     },
     "metadata": {},
     "output_type": "display_data"
    }
   ],
   "source": [
    "# print downloaded images\n",
    "\n",
    "print(web_imgs[0].shape)\n",
    "fig, axs = plt.subplots(1,5, figsize=(16, 4))\n",
    "fig.subplots_adjust(hspace = .2, wspace=1)\n",
    "axs = axs.ravel()\n",
    "for i in range(5):\n",
    "    image = web_imgs[i].squeeze()\n",
    "    axs[i].axis('off')\n",
    "    axs[i].imshow(image, cmap='gray')\n",
    "    axs[i].set_title(signs[web_y[i]])"
   ]
  },
  {
   "cell_type": "markdown",
   "metadata": {},
   "source": [
    "### Predict the Sign Type for Each Image"
   ]
  },
  {
   "cell_type": "code",
   "execution_count": 24,
   "metadata": {},
   "outputs": [
    {
     "name": "stdout",
     "output_type": "stream",
     "text": [
      "INFO:tensorflow:Restoring parameters from ./lenet\n",
      "Test Set Accuracy = 0.800\n"
     ]
    }
   ],
   "source": [
    "### Run the predictions here and use the model to output the prediction for each image.\n",
    "### Make sure to pre-process the images with the same pre-processing pipeline used earlier.\n",
    "### Feel free to use as many code cells as needed.\n",
    "\n",
    "with tf.Session() as sess:\n",
    "    sess.run(tf.global_variables_initializer())\n",
    "    saver2 = tf.train.import_meta_graph('./lenet.meta')\n",
    "    saver2.restore(sess, \"./lenet\")\n",
    "    test_accuracy = evaluate(web_imgs, web_y)\n",
    "    print(\"Test Set Accuracy = {:.3f}\".format(test_accuracy))"
   ]
  },
  {
   "cell_type": "markdown",
   "metadata": {},
   "source": [
    "### Analyze Performance"
   ]
  },
  {
   "cell_type": "markdown",
   "metadata": {},
   "source": [
    "### Performance\n",
    "\n",
    "The accuracy of 80% means that there is one image classified wrong. see further discussion below, where the top 5 classes are extracted."
   ]
  },
  {
   "cell_type": "markdown",
   "metadata": {},
   "source": [
    "### Output Top 5 Softmax Probabilities For Each Image Found on the Web"
   ]
  },
  {
   "cell_type": "markdown",
   "metadata": {},
   "source": [
    "For each of the new images, print out the model's softmax probabilities to show the **certainty** of the model's predictions (limit the output to the top 5 probabilities for each image). [`tf.nn.top_k`](https://www.tensorflow.org/versions/r0.12/api_docs/python/nn.html#top_k) could prove helpful here. \n",
    "\n",
    "The example below demonstrates how tf.nn.top_k can be used to find the top k predictions for each image.\n",
    "\n",
    "`tf.nn.top_k` will return the values and indices (class ids) of the top k predictions. So if k=3, for each sign, it'll return the 3 largest probabilities (out of a possible 43) and the correspoding class ids.\n",
    "\n",
    "Take this numpy array as an example. The values in the array represent predictions. The array contains softmax probabilities for five candidate images with six possible classes. `tf.nn.top_k` is used to choose the three classes with the highest probability:\n",
    "\n",
    "```\n",
    "# (5, 6) array\n",
    "a = np.array([[ 0.24879643,  0.07032244,  0.12641572,  0.34763842,  0.07893497,\n",
    "         0.12789202],\n",
    "       [ 0.28086119,  0.27569815,  0.08594638,  0.0178669 ,  0.18063401,\n",
    "         0.15899337],\n",
    "       [ 0.26076848,  0.23664738,  0.08020603,  0.07001922,  0.1134371 ,\n",
    "         0.23892179],\n",
    "       [ 0.11943333,  0.29198961,  0.02605103,  0.26234032,  0.1351348 ,\n",
    "         0.16505091],\n",
    "       [ 0.09561176,  0.34396535,  0.0643941 ,  0.16240774,  0.24206137,\n",
    "         0.09155967]])\n",
    "```\n",
    "\n",
    "Running it through `sess.run(tf.nn.top_k(tf.constant(a), k=3))` produces:\n",
    "\n",
    "```\n",
    "TopKV2(values=array([[ 0.34763842,  0.24879643,  0.12789202],\n",
    "       [ 0.28086119,  0.27569815,  0.18063401],\n",
    "       [ 0.26076848,  0.23892179,  0.23664738],\n",
    "       [ 0.29198961,  0.26234032,  0.16505091],\n",
    "       [ 0.34396535,  0.24206137,  0.16240774]]), indices=array([[3, 0, 5],\n",
    "       [0, 1, 4],\n",
    "       [0, 5, 1],\n",
    "       [1, 3, 5],\n",
    "       [1, 4, 3]], dtype=int32))\n",
    "```\n",
    "\n",
    "Looking just at the first row we get `[ 0.34763842,  0.24879643,  0.12789202]`, you can confirm these are the 3 largest probabilities in `a`. You'll also notice `[3, 0, 5]` are the corresponding indices."
   ]
  },
  {
   "cell_type": "code",
   "execution_count": 53,
   "metadata": {},
   "outputs": [],
   "source": [
    "### Print out the top five softmax probabilities for the predictions on the German traffic sign images found on the web. \n",
    "### Feel free to use as many code cells as needed.\n",
    "\n",
    "# define function to return softmax values for classes\n",
    "\n",
    "def evaluate_top(X_data, y_data):\n",
    "    num_examples = len(X_data)\n",
    "    total_accuracy = 0\n",
    "    sess = tf.get_default_session()\n",
    "    softmax = sess.run(tf.nn.softmax(logits), feed_dict={x: X_data, y: y_data, phase: False})\n",
    "    return softmax"
   ]
  },
  {
   "cell_type": "code",
   "execution_count": 55,
   "metadata": {},
   "outputs": [
    {
     "name": "stdout",
     "output_type": "stream",
     "text": [
      "INFO:tensorflow:Restoring parameters from ./lenet\n"
     ]
    }
   ],
   "source": [
    "# run network on examples\n",
    "\n",
    "with tf.Session() as sess:\n",
    "    sess.run(tf.global_variables_initializer())\n",
    "    saver3 = tf.train.import_meta_graph('./lenet.meta')\n",
    "    saver3.restore(sess, \"./lenet\")\n",
    "    softmax = evaluate_top(web_imgs, web_y)\n",
    "    top = sess.run(tf.nn.top_k(softmax, k=5))"
   ]
  },
  {
   "cell_type": "code",
   "execution_count": 77,
   "metadata": {},
   "outputs": [
    {
     "name": "stdout",
     "output_type": "stream",
     "text": [
      "13\n",
      "Example 1: Yield\n",
      "Guess 1:\tSign 13: \tYield\t100%\n",
      "Guess 2:\tSign 39: \tKeep left\t0%\n",
      "Guess 3:\tSign 8: \tSpeed limit (120km/h)\t0%\n",
      "Guess 4:\tSign 9: \tNo passing\t0%\n",
      "Guess 5:\tSign 2: \tSpeed limit (50km/h)\t0%\n",
      "\n",
      "Example 2: Speed limit (30km/h)\n",
      "Guess 1:\tSign 1: \tSpeed limit (30km/h)\t100%\n",
      "Guess 2:\tSign 40: \tRoundabout mandatory\t0%\n",
      "Guess 3:\tSign 17: \tNo entry\t0%\n",
      "Guess 4:\tSign 2: \tSpeed limit (50km/h)\t0%\n",
      "Guess 5:\tSign 37: \tGo straight or left\t0%\n",
      "\n",
      "Example 3: Priority road\n",
      "Guess 1:\tSign 12: \tPriority road\t91%\n",
      "Guess 2:\tSign 14: \tStop\t7%\n",
      "Guess 3:\tSign 40: \tRoundabout mandatory\t1%\n",
      "Guess 4:\tSign 38: \tKeep right\t1%\n",
      "Guess 5:\tSign 15: \tNo vehicles\t0%\n",
      "\n",
      "Example 4: Pedestrians\n",
      "Guess 1:\tSign 11: \tRight-of-way at the next intersection\t61%\n",
      "Guess 2:\tSign 27: \tPedestrians\t25%\n",
      "Guess 3:\tSign 24: \tRoad narrows on the right\t11%\n",
      "Guess 4:\tSign 25: \tRoad work\t2%\n",
      "Guess 5:\tSign 21: \tDouble curve\t1%\n",
      "\n",
      "Example 5: No entry\n",
      "Guess 1:\tSign 17: \tNo entry\t100%\n",
      "Guess 2:\tSign 14: \tStop\t0%\n",
      "Guess 3:\tSign 13: \tYield\t0%\n",
      "Guess 4:\tSign 1: \tSpeed limit (30km/h)\t0%\n",
      "Guess 5:\tSign 41: \tEnd of no passing\t0%\n",
      "\n"
     ]
    }
   ],
   "source": [
    "# print the top 5 guesses for every example\n",
    "\n",
    "for i in range(len(web_y)):\n",
    "    print('Example {}: {}'.format(i+1, signs[web_y[i]]))\n",
    "    for j in range(5):\n",
    "        print('Guess {}:\\tSign {}: \\t{}\\t{:.0f}%'.format(j+1, top[1][i][j], signs[top[1][i][j]], 100.0*top[0][i][j]))\n",
    "    print('')"
   ]
  },
  {
   "cell_type": "markdown",
   "metadata": {},
   "source": [
    "### Performance\n",
    "\n",
    "The pedestrian sign was classified wrong and instead the pretty similar sign Right-of-Way at the next intresection was selected. As those signs look similar even to the human eye, it makes sense that those were mixed up and not a very different looking sign. The pedestrian class had less samples than most (240 for training and validation) so 260 augmented pictures were added. To improve maybe the data augmentation could be improved and even more than 500 samples per class could be generated to even out the training process."
   ]
  },
  {
   "cell_type": "markdown",
   "metadata": {},
   "source": [
    "---\n",
    "\n",
    "## Step 4 (Optional): Visualize the Neural Network's State with Test Images\n",
    "\n",
    " This Section is not required to complete but acts as an additional excersise for understaning the output of a neural network's weights. While neural networks can be a great learning device they are often referred to as a black box. We can understand what the weights of a neural network look like better by plotting their feature maps. After successfully training your neural network you can see what it's feature maps look like by plotting the output of the network's weight layers in response to a test stimuli image. From these plotted feature maps, it's possible to see what characteristics of an image the network finds interesting. For a sign, maybe the inner network feature maps react with high activation to the sign's boundary outline or to the contrast in the sign's painted symbol.\n",
    "\n",
    " Provided for you below is the function code that allows you to get the visualization output of any tensorflow weight layer you want. The inputs to the function should be a stimuli image, one used during training or a new one you provided, and then the tensorflow variable name that represents the layer's state during the training process, for instance if you wanted to see what the [LeNet lab's](https://classroom.udacity.com/nanodegrees/nd013/parts/fbf77062-5703-404e-b60c-95b78b2f3f9e/modules/6df7ae49-c61c-4bb2-a23e-6527e69209ec/lessons/601ae704-1035-4287-8b11-e2c2716217ad/concepts/d4aca031-508f-4e0b-b493-e7b706120f81) feature maps looked like for it's second convolutional layer you could enter conv2 as the tf_activation variable.\n",
    "\n",
    "For an example of what feature map outputs look like, check out NVIDIA's results in their paper [End-to-End Deep Learning for Self-Driving Cars](https://devblogs.nvidia.com/parallelforall/deep-learning-self-driving-cars/) in the section Visualization of internal CNN State. NVIDIA was able to show that their network's inner weights had high activations to road boundary lines by comparing feature maps from an image with a clear path to one without. Try experimenting with a similar test to show that your trained network's weights are looking for interesting features, whether it's looking at differences in feature maps from images with or without a sign, or even what feature maps look like in a trained network vs a completely untrained one on the same sign image.\n",
    "\n",
    "<figure>\n",
    " <img src=\"visualize_cnn.png\" width=\"380\" alt=\"Combined Image\" />\n",
    " <figcaption>\n",
    " <p></p> \n",
    " <p style=\"text-align: center;\"> Your output should look something like this (above)</p> \n",
    " </figcaption>\n",
    "</figure>\n",
    " <p></p> \n"
   ]
  },
  {
   "cell_type": "code",
   "execution_count": null,
   "metadata": {},
   "outputs": [],
   "source": [
    "### Visualize your network's feature maps here.\n",
    "### Feel free to use as many code cells as needed.\n",
    "\n",
    "# image_input: the test image being fed into the network to produce the feature maps\n",
    "# tf_activation: should be a tf variable name used during your training procedure that represents the calculated state of a specific weight layer\n",
    "# activation_min/max: can be used to view the activation contrast in more detail, by default matplot sets min and max to the actual min and max values of the output\n",
    "# plt_num: used to plot out multiple different weight feature map sets on the same block, just extend the plt number for each new feature map entry\n",
    "\n",
    "def outputFeatureMap(image_input, tf_activation, activation_min=-1, activation_max=-1 ,plt_num=1):\n",
    "    # Here make sure to preprocess your image_input in a way your network expects\n",
    "    # with size, normalization, ect if needed\n",
    "    # image_input =\n",
    "    # Note: x should be the same name as your network's tensorflow data placeholder variable\n",
    "    # If you get an error tf_activation is not defined it may be having trouble accessing the variable from inside a function\n",
    "    activation = tf_activation.eval(session=sess,feed_dict={x : image_input})\n",
    "    featuremaps = activation.shape[3]\n",
    "    plt.figure(plt_num, figsize=(15,15))\n",
    "    for featuremap in range(featuremaps):\n",
    "        plt.subplot(6,8, featuremap+1) # sets the number of feature maps to show on each row and column\n",
    "        plt.title('FeatureMap ' + str(featuremap)) # displays the feature map number\n",
    "        if activation_min != -1 & activation_max != -1:\n",
    "            plt.imshow(activation[0,:,:, featuremap], interpolation=\"nearest\", vmin =activation_min, vmax=activation_max, cmap=\"gray\")\n",
    "        elif activation_max != -1:\n",
    "            plt.imshow(activation[0,:,:, featuremap], interpolation=\"nearest\", vmax=activation_max, cmap=\"gray\")\n",
    "        elif activation_min !=-1:\n",
    "            plt.imshow(activation[0,:,:, featuremap], interpolation=\"nearest\", vmin=activation_min, cmap=\"gray\")\n",
    "        else:\n",
    "            plt.imshow(activation[0,:,:, featuremap], interpolation=\"nearest\", cmap=\"gray\")"
   ]
  }
 ],
 "metadata": {
  "anaconda-cloud": {},
  "kernelspec": {
   "display_name": "Python 3",
   "language": "python",
   "name": "python3"
  },
  "language_info": {
   "codemirror_mode": {
    "name": "ipython",
    "version": 3
   },
   "file_extension": ".py",
   "mimetype": "text/x-python",
   "name": "python",
   "nbconvert_exporter": "python",
   "pygments_lexer": "ipython3",
   "version": "3.5.2"
  },
  "widgets": {
   "state": {},
   "version": "1.1.2"
  }
 },
 "nbformat": 4,
 "nbformat_minor": 1
}
